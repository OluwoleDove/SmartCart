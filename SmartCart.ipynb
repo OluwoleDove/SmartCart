{
 "cells": [
  {
   "cell_type": "markdown",
   "metadata": {},
   "source": [
    "![image](https://raw.githubusercontent.com/IBM/watson-machine-learning-samples/master/cloud/notebooks/headers/watsonx-Prompt_Lab-Notebook.png)\n",
    "<p style=\"text-align: center; padding:20px;\"><br />\n",
    "  <span style=\"font-size: 80px; font-weight:800;\">SmartCart</span><br /><br />\n",
    "  <span style=\"font-size: 40px; font-weight:500; line-height: 1.2;\"><br />\n",
    "      A Generative <br />\n",
    "      AI-powered Product Recommendation Engine\n",
    "  </span>\n",
    "    <span style=\"font-size: 30px; font-weight:500; line-height: 1.2;\"><br />\n",
    "      <br />By <br /><br />\n",
    "      WatsonX_Team_007\n",
    "  </span>\n",
    "</p>\n",
    "\n",
    "This notebook contains steps and code to demonstrate how better we can improve product recommendation based off client reviews and factors like seasons, and celebrity influences."
   ]
  },
  {
   "cell_type": "markdown",
   "metadata": {},
   "source": [
    "## Data Sources\n",
    "Economic Data Source:<br />\n",
    "https://databank.worldbank.org/source/world-development-indicators\n",
    "\n",
    "Other Secondary Data Source: <br />\n",
    "https://www.kaggle.com/datasets/vivekgediya/ecommerce-product-review-data<br />\n",
    "https://www.kaggle.com/datasets/kamganganthony/the-android-app-market-on-google-play/data<br />\n",
    "\n",
    "Celebrity Data Source:<br />\n",
    "https://robbreport.com/<br />\n",
    "https://www.thecut.com<br />\n",
    "https://www.thefashionisto.com/<br />\n",
    "https://www.refinery29.com/en-us/2022/09/11133893/claire-sulmers-fashion-bomb-daily-interview<br />"
   ]
  },
  {
   "cell_type": "markdown",
   "metadata": {},
   "source": [
    "## watsonx API connection "
   ]
  },
  {
   "cell_type": "code",
   "execution_count": 1,
   "metadata": {},
   "outputs": [],
   "source": [
    "import os, types\n",
    "import requests\n",
    "import getpass\n",
    "import ibm_boto3\n",
    "import pandas as pd\n",
    "from pathlib import Path\n",
    "from botocore.client import Config\n",
    "from ibm_watsonx_ai.foundation_models import Model"
   ]
  },
  {
   "cell_type": "markdown",
   "metadata": {},
   "source": [
    "## Defining Model Credentials"
   ]
  },
  {
   "cell_type": "code",
   "execution_count": 2,
   "metadata": {},
   "outputs": [],
   "source": [
    "def get_credentials():\n",
    "\treturn {\n",
    "\t\t\"url\" : \"https://us-south.ml.cloud.ibm.com\",\n",
    "\t\t\"apikey\" : getpass.getpass(\"Please enter your api key (hit enter): \")\n",
    "\t}"
   ]
  },
  {
   "cell_type": "markdown",
   "metadata": {},
   "source": [
    "## Defining Foundational Model ID"
   ]
  },
  {
   "cell_type": "code",
   "execution_count": 3,
   "metadata": {},
   "outputs": [],
   "source": [
    "model_id = \"ibm/granite-20b-multilingual\""
   ]
  },
  {
   "cell_type": "markdown",
   "metadata": {},
   "source": [
    "## Defining the Model Parameters"
   ]
  },
  {
   "cell_type": "code",
   "execution_count": 4,
   "metadata": {},
   "outputs": [],
   "source": [
    "parameters = {\n",
    "    \"decoding_method\": \"greedy\",\n",
    "    \"max_new_tokens\": 900,\n",
    "    \"repetition_penalty\": 1.05\n",
    "}"
   ]
  },
  {
   "cell_type": "markdown",
   "metadata": {},
   "source": [
    "## Setting Project and Space ID"
   ]
  },
  {
   "cell_type": "code",
   "execution_count": 5,
   "metadata": {},
   "outputs": [
    {
     "name": "stdout",
     "output_type": "stream",
     "text": [
      "None\n"
     ]
    }
   ],
   "source": [
    "project_id = os.getenv(\"PROJECT_ID\")\n",
    "space_id = os.getenv(\"SPACE_ID\")\n",
    "print(space_id)"
   ]
  },
  {
   "cell_type": "markdown",
   "metadata": {},
   "source": [
    "## Defining the Model Object"
   ]
  },
  {
   "cell_type": "code",
   "execution_count": 6,
   "metadata": {},
   "outputs": [
    {
     "name": "stdout",
     "output_type": "stream",
     "text": [
      "Please enter your api key (hit enter): ········\n"
     ]
    }
   ],
   "source": [
    "model = Model(\n",
    "\tmodel_id = model_id,\n",
    "\tparams = parameters,\n",
    "\tcredentials = get_credentials(),\n",
    "\tproject_id = project_id,\n",
    "\tspace_id = space_id\n",
    "\t)"
   ]
  },
  {
   "cell_type": "markdown",
   "metadata": {},
   "source": [
    "## Defining the inferencing input for chat"
   ]
  },
  {
   "cell_type": "code",
   "execution_count": 7,
   "metadata": {},
   "outputs": [],
   "source": [
    "# Initialize the IBM COS client\n",
    "cos_client = ibm_boto3.client(service_name='s3',\n",
    "    ibm_api_key_id={Your_API_Key},\n",
    "    ibm_auth_endpoint=\"https://iam.cloud.ibm.com/oidc/token\",\n",
    "    config=Config(signature_version='oauth'),\n",
    "    endpoint_url='https://s3.private.us-south.cloud-object-storage.appdomain.cloud')"
   ]
  },
  {
   "cell_type": "markdown",
   "metadata": {},
   "source": [
    "## Defining Function Scopes"
   ]
  },
  {
   "cell_type": "code",
   "execution_count": 8,
   "metadata": {},
   "outputs": [],
   "source": [
    "def load_cos_files(bucket, object_keys, max_size=1000):\n",
    "    documents = []\n",
    "    \n",
    "    for object_key in object_keys:\n",
    "        # Fetch each file\n",
    "        streaming_body = cos_client.get_object(Bucket=bucket, Key=object_key)['Body']\n",
    "        \n",
    "        # Read and decode the content\n",
    "        file_content = streaming_body.read().decode('utf-8')\n",
    "        \n",
    "        # Trim the content if it exceeds max_size, Limit to first 1000 characters\n",
    "        trimmed_content = file_content[:max_size] \n",
    "        documents.append(trimmed_content)\n",
    "    \n",
    "    # Combine all file contents into a single string\n",
    "    return \"\\n\".join(documents)\n",
    "\n",
    "# Weather API call\n",
    "def get_weather_data(city, api_key):\n",
    "    base_url = \"http://api.openweathermap.org/data/2.5/weather\"\n",
    "    params = {\n",
    "        'q': city,\n",
    "        'appid': api_key,\n",
    "        'units': 'metric'  # For temperature in Celsius\n",
    "    }\n",
    "    response = requests.get(base_url, params=params)\n",
    "    \n",
    "    if response.status_code == 200:\n",
    "        weather_data = response.json()\n",
    "        return {\n",
    "            'temperature': weather_data['main']['temp'],\n",
    "            'description': weather_data['weather'][0]['description'],\n",
    "            'city': weather_data['name']\n",
    "        }\n",
    "    else:\n",
    "        return None"
   ]
  },
  {
   "cell_type": "markdown",
   "metadata": {},
   "source": [
    "## Loading Files from COS for Model Grounding"
   ]
  },
  {
   "cell_type": "code",
   "execution_count": 9,
   "metadata": {},
   "outputs": [],
   "source": [
    "bucket = 'Your_bucket_address'\n",
    "object_keys = [\n",
    "    'Flipkart_Reviews - Electronics.txt',\n",
    "    'Product Review Data.txt',\n",
    "    'Magazine_Subscriptions.txt',\n",
    "    'economic.txt',\n",
    "    'celebrity_info.txt'\n",
    "]\n",
    "combined_documents = load_cos_files(bucket, object_keys)"
   ]
  },
  {
   "cell_type": "markdown",
   "metadata": {},
   "source": [
    "## Calling Weather API Function"
   ]
  },
  {
   "cell_type": "code",
   "execution_count": 10,
   "metadata": {},
   "outputs": [
    {
     "name": "stdout",
     "output_type": "stream",
     "text": [
      "City: Port Harcourt\n",
      "Weather in Port Harcourt:\n",
      "Temperature: 31.1°C\n",
      "Description: light rain\n",
      "\n"
     ]
    }
   ],
   "source": [
    "api_key = 'Your_Openweather_API_key'\n",
    "city = input(\"City: \")\n",
    "weather_info = get_weather_data(city, api_key)\n",
    "\n",
    "if weather_info:\n",
    "    weather_summary = (f\"Weather in {weather_info['city']}:\\n\"\n",
    "                       f\"Temperature: {weather_info['temperature']}°C\\n\"\n",
    "                       f\"Description: {weather_info['description']}\\n\")\n",
    "    \n",
    "    # Combine weather information with the documents\n",
    "    combined_documents_with_weather = f\"{combined_documents}\\n\\n{weather_summary}\"\n",
    "else:\n",
    "    combined_documents_with_weather = f\"{combined_documents}\\n\\nWeather information could not be retrieved.\"\n",
    "\n",
    "print(weather_summary)"
   ]
  },
  {
   "cell_type": "markdown",
   "metadata": {},
   "source": [
    "## Prompt Feature"
   ]
  },
  {
   "cell_type": "code",
   "execution_count": 13,
   "metadata": {},
   "outputs": [
    {
     "name": "stdout",
     "output_type": "stream",
     "text": [
      "Question: Considering the products review performance, how do you think the economic factors and celebrity lifestyle can influence the regular person's buying pattern?\n",
      "AI: The review performance of products can significantly impact the buying patterns of regular people, as it often reflects the real-world experience of using the product. Economic factors, such as inflation and GDP deflator, can also affect purchasing decisions, as they represent the overall health of the economy and the cost of living. When inflation is high, the cost of goods and services increases, which may lead people to prioritize essential items over non-essential ones. Additionally, a positive GDP deflator indicates economic growth, which can boost consumer confidence and lead to increased spending.\n",
      "\n",
      "Celebrity lifestyle, on the other hand, can sometimes influence buying patterns indirectly. If a celebrity endorses or promotes a product, it can create a sense of aspiration or desirability, making people feel like they too can have a similar lifestyle or product. However, it is important to note that celebrity endorsements should not be the sole determinant of a purchase, as they can be subjective and may not accurately represent the quality or value of the product.\n",
      "\n",
      "In summary, the review performance of products, economic factors, and celebrity lifestyle can all play a role in shaping the buying patterns of regular people. By considering these factors, individuals can make more informed decisions about the products they choose to purchase.\n"
     ]
    }
   ],
   "source": [
    "# Get user input\n",
    "question = input(\"Question: \")\n",
    "formattedQuestion = f\"\"\"<|user|>\\n{question}\\n<|assistant|>\\n\"\"\"\n",
    "\n",
    "# Learn from data\n",
    "prompt_input = f\"Grounding documents:\\n{combined_documents_with_weather}\\n\"\n",
    "prompt = f\"{prompt_input}{formattedQuestion}\"\n",
    "\n",
    "# Generate the response\n",
    "generated_response = model.generate_text(prompt=prompt, guardrails=True)\n",
    "print(f\"AI: {generated_response}\")"
   ]
  },
  {
   "cell_type": "markdown",
   "metadata": {},
   "source": [
    "## Sample Questions"
   ]
  },
  {
   "cell_type": "raw",
   "metadata": {},
   "source": [
    "Given the season of the year, the reviews and as someone that is readily influenced by celebrity lifestyle, how will you advise that I spend? and on which products. I need products that will give me best value for my money.\n",
    "\n",
    "What wear will you suggest I buy given the weather and time of day?\n",
    "\n",
    "Based on weather conditions and economic strength of different cities in Nigeria, in which city will you advise that we sell the most celebrity style commodities, and where will you recommend that we sell the regular things?\n",
    "\n",
    "Overall, what is most the most frequent theme in the reviews? Where will you give kudos and where will you suggest improvement?\n",
    "\n",
    "Considering the products review performance, how do you think the economic factors and celebrity lifestyle can influence the regular person's buying pattern?\n",
    "\n",
    "Summarily, considering all the data, what can you tell me about buyer psychology?"
   ]
  },
  {
   "cell_type": "markdown",
   "metadata": {},
   "source": [
    "<a id=\"copyrights\"></a>\n",
    "### Copyrights\n",
    "\n",
    "Licensed Materials - Copyright © 2023 IBM. This notebook and its source code are released under the terms of the ILAN License.\n",
    "Use, duplication disclosure restricted by GSA ADP Schedule Contract with IBM Corp.\n",
    "\n",
    "**Note:** The auto-generated notebooks are subject to the International License Agreement for Non-Warranted Programs (or equivalent) and License Information document for watsonx.ai Auto-generated Notebook (License Terms), such agreements located in the link below. Specifically, the Source Components and Sample Materials clause included in the License Information document for Watson Studio Auto-generated Notebook applies to the auto-generated notebooks.  \n",
    "\n",
    "By downloading, copying, accessing, or otherwise using the materials, you agree to the <a href=\"https://www14.software.ibm.com/cgi-bin/weblap/lap.pl?li_formnum=L-AMCU-BYC7LF\" target=\"_blank\">License Terms</a>  "
   ]
  }
 ],
 "metadata": {
  "kernelspec": {
   "display_name": "Python 3.10",
   "language": "python",
   "name": "python3"
  },
  "language_info": {
   "codemirror_mode": {
    "name": "ipython",
    "version": 3
   },
   "file_extension": ".py",
   "mimetype": "text/x-python",
   "name": "python",
   "nbconvert_exporter": "python",
   "pygments_lexer": "ipython3",
   "version": "3.10.14"
  }
 },
 "nbformat": 4,
 "nbformat_minor": 1
}
